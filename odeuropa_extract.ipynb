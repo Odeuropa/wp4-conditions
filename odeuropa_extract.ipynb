{
  "nbformat": 4,
  "nbformat_minor": 0,
  "metadata": {
    "colab": {
      "provenance": [],
      "authorship_tag": "ABX9TyN5g9h3MiA8QeFz2k3pvDec",
      "include_colab_link": true
    },
    "kernelspec": {
      "name": "python3",
      "display_name": "Python 3"
    },
    "language_info": {
      "name": "python"
    },
    "accelerator": "GPU",
    "gpuClass": "standard"
  },
  "cells": [
    {
      "cell_type": "markdown",
      "metadata": {
        "id": "view-in-github",
        "colab_type": "text"
      },
      "source": [
        "<a href=\"https://colab.research.google.com/github/Odeuropa/wp4-conditions/blob/main/odeuropa_extract.ipynb\" target=\"_parent\"><img src=\"https://colab.research.google.com/assets/colab-badge.svg\" alt=\"Open In Colab\"/></a>"
      ]
    },
    {
      "cell_type": "code",
      "execution_count": null,
      "metadata": {
        "id": "m_R-rG1VWUWW"
      },
      "outputs": [],
      "source": [
        "!pip install transformers\n",
        "!nvidia-smi"
      ]
    },
    {
      "cell_type": "code",
      "source": [
        "from google.colab import drive\n",
        "drive.mount('/content/drive')"
      ],
      "metadata": {
        "id": "0vzsbBpaWmhi"
      },
      "execution_count": null,
      "outputs": []
    },
    {
      "cell_type": "code",
      "source": [
        "import csv\n",
        "import os\n",
        "import json\n",
        "import fnmatch\n",
        "from transformers import pipeline\n",
        "from torch.utils.data import Dataset\n",
        "from tqdm import tqdm"
      ],
      "metadata": {
        "id": "3lGdZ9LTXGzf"
      },
      "execution_count": null,
      "outputs": []
    },
    {
      "cell_type": "code",
      "source": [
        "def extract_row(QA, row):\n",
        "  context = row[\"Full_Sentence\"]\n",
        "  sword = row[\"q_smell_word\"]\n",
        "  question_cause = f\"What is the cause of the {sword}?\"\n",
        "  question_effect = f\"What is the effect of the {sword}?\"\n",
        "  result_cause = QA(question=question_cause, context=context, handle_impossible_answer=True)\n",
        "  row[\"cause\"] = result_cause[\"answer\"] if result_cause[\"answer\"] else \"null\"\n",
        "  row[\"cause_start\"] = result_cause[\"start\"]\n",
        "  row[\"cause_end\"] = result_cause[\"end\"]\n",
        "  row[\"cause_score\"] = result_cause[\"score\"]\n",
        "  result_effect = QA(question=question_effect, context=context, handle_impossible_answer=True)\n",
        "  row[\"effect\"] = result_effect[\"answer\"] if result_effect[\"answer\"] else \"null\"\n",
        "  row[\"effect_start\"] = result_effect[\"start\"]\n",
        "  row[\"effect_end\"] = result_effect[\"end\"]\n",
        "  row[\"effect_score\"] = result_effect[\"score\"]\n",
        "  return row"
      ],
      "metadata": {
        "id": "s7ZFhq1f40NU"
      },
      "execution_count": null,
      "outputs": []
    },
    {
      "cell_type": "code",
      "source": [
        "MODEL_NAME = \"mbartolo/roberta-large-synqa-ext\"\n",
        "QA = pipeline(\"question-answering\", model=MODEL_NAME, tokenizer=MODEL_NAME, device=0)"
      ],
      "metadata": {
        "id": "hvYCOaOC5Kx7"
      },
      "execution_count": null,
      "outputs": []
    },
    {
      "cell_type": "code",
      "source": [
        "dataset_dir = \"/content/drive/MyDrive/datasets/cause-effect\"\n",
        "output_dir = \"/content/drive/MyDrive/colab_output/odeuropa\"\n",
        "matches = []\n",
        "for root, dirnames, filenames in os.walk(dataset_dir):\n",
        "    for filename in fnmatch.filter(filenames, '*.tsv'):\n",
        "        matches.append(os.path.join(root, filename))\n",
        "fpaths = [x for x in matches if \"meta\" not in x]\n",
        "fpaths = sorted(fpaths)\n",
        "data = []\n",
        "accept = {\"scent\", \"odour\", \"odor\", \"stench\", \"stink\", \"stunk\", \"perfume\", \"aroma\", \"reek\", \"fragrance\", \"whiff\"}\n",
        "\n",
        "\n",
        "for fpath in fpaths:\n",
        "  total = len(open(fpath).readlines())\n",
        "  ii = 1\n",
        "  output_file = os.path.basename(fpath).rstrip(\".tsv\") + \".jsonl\"\n",
        "  output_file = os.path.join(output_dir, output_file)\n",
        "  print(f\"{fpath} -> {output_file}\")\n",
        "  seen = set()\n",
        "  if os.path.exists(output_file):\n",
        "    ids = set([json.loads(r.strip())[\"rid\"] for r in open(output_file).readlines()])\n",
        "    seen = seen | ids\n",
        "    print(f\"Seen: {len(seen)}\")\n",
        "    total -= len(seen)\n",
        "  pbar = tqdm(total=total, position=0, leave=True)\n",
        "\n",
        "  csvfile = open(fpath)\n",
        "  csvreader = csv.DictReader(csvfile, dialect=csv.excel_tab)\n",
        "  for row in csvreader:\n",
        "    if ii in seen:\n",
        "      ii += 1\n",
        "      continue\n",
        "    \n",
        "    smell_word = \"smell\"\n",
        "    if \"smel\" in row[\"Smell_Word\"].lower():\n",
        "      smell_word = \"smell\"\n",
        "    else:\n",
        "      for word in accept:\n",
        "        if word in row[\"Smell_Word\"].lower():\n",
        "          smell_word = word\n",
        "          break\n",
        "    if smell_word == \"stunk\":\n",
        "      smell_word = \"stink\"\n",
        "\n",
        "    try:\n",
        "      row[\"rid\"] = ii\n",
        "      row[\"q_smell_word\"] = smell_word\n",
        "      row[\"Full_Sentence\"] = row[None][0]\n",
        "      del row[None]\n",
        "      row = extract_row(QA, row)\n",
        "    except:\n",
        "      ii += 1\n",
        "      continue\n",
        "    with open(output_file, \"a\") as fout:\n",
        "      print(json.dumps(row), file=fout)\n",
        "    ii += 1\n",
        "    pbar.update(1)\n",
        "  pbar.close()\n"
      ],
      "metadata": {
        "id": "zszJFPrbYpug"
      },
      "execution_count": null,
      "outputs": []
    }
  ]
}